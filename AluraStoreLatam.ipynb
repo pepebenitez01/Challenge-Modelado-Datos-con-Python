{
  "nbformat": 4,
  "nbformat_minor": 0,
  "metadata": {
    "colab": {
      "provenance": []
    },
    "kernelspec": {
      "name": "python3",
      "display_name": "Python 3"
    },
    "language_info": {
      "name": "python"
    }
  },
  "cells": [
    {
      "cell_type": "markdown",
      "source": [
        "### Importación de datos\n",
        "\n"
      ],
      "metadata": {
        "id": "RhEdWd9YUR6H"
      }
    },
    {
      "cell_type": "code",
      "execution_count": 4,
      "metadata": {
        "colab": {
          "base_uri": "https://localhost:8080/",
          "height": 328
        },
        "id": "T3EvaeQ_INIL",
        "outputId": "36d23a9e-a386-43e1-c41e-861b2754cc7a"
      },
      "outputs": [
        {
          "output_type": "execute_result",
          "data": {
            "text/plain": [
              "            Producto Categoría del Producto    Precio  Costo de envío  \\\n",
              "0  Asistente virtual           Electrónicos  164300.0          6900.0   \n",
              "1    Mesa de comedor                Muebles  192300.0          8400.0   \n",
              "2      Juego de mesa               Juguetes  209600.0         15900.0   \n",
              "3         Microondas      Electrodomésticos  757500.0         41000.0   \n",
              "4   Silla de oficina                Muebles  335200.0         20200.0   \n",
              "\n",
              "  Fecha de Compra         Vendedor Lugar de Compra  Calificación  \\\n",
              "0      16/01/2021      Pedro Gomez          Bogotá             4   \n",
              "1      18/05/2022  Beatriz Morales        Medellín             1   \n",
              "2      15/03/2021   Juan Fernandez       Cartagena             1   \n",
              "3      03/05/2022   Juan Fernandez            Cali             4   \n",
              "4      07/11/2020    Maria Alfonso        Medellín             5   \n",
              "\n",
              "       Método de pago  Cantidad de cuotas       lat       lon  \n",
              "0  Tarjeta de crédito                   8   4.60971 -74.08175  \n",
              "1  Tarjeta de crédito                   4   6.25184 -75.56359  \n",
              "2  Tarjeta de crédito                   1  10.39972 -75.51444  \n",
              "3               Nequi                   1   3.43722 -76.52250  \n",
              "4               Nequi                   1   6.25184 -75.56359  "
            ],
            "text/html": [
              "\n",
              "  <div id=\"df-26c13b1d-f817-44f8-a11b-5d2700f31d1e\" class=\"colab-df-container\">\n",
              "    <div>\n",
              "<style scoped>\n",
              "    .dataframe tbody tr th:only-of-type {\n",
              "        vertical-align: middle;\n",
              "    }\n",
              "\n",
              "    .dataframe tbody tr th {\n",
              "        vertical-align: top;\n",
              "    }\n",
              "\n",
              "    .dataframe thead th {\n",
              "        text-align: right;\n",
              "    }\n",
              "</style>\n",
              "<table border=\"1\" class=\"dataframe\">\n",
              "  <thead>\n",
              "    <tr style=\"text-align: right;\">\n",
              "      <th></th>\n",
              "      <th>Producto</th>\n",
              "      <th>Categoría del Producto</th>\n",
              "      <th>Precio</th>\n",
              "      <th>Costo de envío</th>\n",
              "      <th>Fecha de Compra</th>\n",
              "      <th>Vendedor</th>\n",
              "      <th>Lugar de Compra</th>\n",
              "      <th>Calificación</th>\n",
              "      <th>Método de pago</th>\n",
              "      <th>Cantidad de cuotas</th>\n",
              "      <th>lat</th>\n",
              "      <th>lon</th>\n",
              "    </tr>\n",
              "  </thead>\n",
              "  <tbody>\n",
              "    <tr>\n",
              "      <th>0</th>\n",
              "      <td>Asistente virtual</td>\n",
              "      <td>Electrónicos</td>\n",
              "      <td>164300.0</td>\n",
              "      <td>6900.0</td>\n",
              "      <td>16/01/2021</td>\n",
              "      <td>Pedro Gomez</td>\n",
              "      <td>Bogotá</td>\n",
              "      <td>4</td>\n",
              "      <td>Tarjeta de crédito</td>\n",
              "      <td>8</td>\n",
              "      <td>4.60971</td>\n",
              "      <td>-74.08175</td>\n",
              "    </tr>\n",
              "    <tr>\n",
              "      <th>1</th>\n",
              "      <td>Mesa de comedor</td>\n",
              "      <td>Muebles</td>\n",
              "      <td>192300.0</td>\n",
              "      <td>8400.0</td>\n",
              "      <td>18/05/2022</td>\n",
              "      <td>Beatriz Morales</td>\n",
              "      <td>Medellín</td>\n",
              "      <td>1</td>\n",
              "      <td>Tarjeta de crédito</td>\n",
              "      <td>4</td>\n",
              "      <td>6.25184</td>\n",
              "      <td>-75.56359</td>\n",
              "    </tr>\n",
              "    <tr>\n",
              "      <th>2</th>\n",
              "      <td>Juego de mesa</td>\n",
              "      <td>Juguetes</td>\n",
              "      <td>209600.0</td>\n",
              "      <td>15900.0</td>\n",
              "      <td>15/03/2021</td>\n",
              "      <td>Juan Fernandez</td>\n",
              "      <td>Cartagena</td>\n",
              "      <td>1</td>\n",
              "      <td>Tarjeta de crédito</td>\n",
              "      <td>1</td>\n",
              "      <td>10.39972</td>\n",
              "      <td>-75.51444</td>\n",
              "    </tr>\n",
              "    <tr>\n",
              "      <th>3</th>\n",
              "      <td>Microondas</td>\n",
              "      <td>Electrodomésticos</td>\n",
              "      <td>757500.0</td>\n",
              "      <td>41000.0</td>\n",
              "      <td>03/05/2022</td>\n",
              "      <td>Juan Fernandez</td>\n",
              "      <td>Cali</td>\n",
              "      <td>4</td>\n",
              "      <td>Nequi</td>\n",
              "      <td>1</td>\n",
              "      <td>3.43722</td>\n",
              "      <td>-76.52250</td>\n",
              "    </tr>\n",
              "    <tr>\n",
              "      <th>4</th>\n",
              "      <td>Silla de oficina</td>\n",
              "      <td>Muebles</td>\n",
              "      <td>335200.0</td>\n",
              "      <td>20200.0</td>\n",
              "      <td>07/11/2020</td>\n",
              "      <td>Maria Alfonso</td>\n",
              "      <td>Medellín</td>\n",
              "      <td>5</td>\n",
              "      <td>Nequi</td>\n",
              "      <td>1</td>\n",
              "      <td>6.25184</td>\n",
              "      <td>-75.56359</td>\n",
              "    </tr>\n",
              "  </tbody>\n",
              "</table>\n",
              "</div>\n",
              "    <div class=\"colab-df-buttons\">\n",
              "\n",
              "  <div class=\"colab-df-container\">\n",
              "    <button class=\"colab-df-convert\" onclick=\"convertToInteractive('df-26c13b1d-f817-44f8-a11b-5d2700f31d1e')\"\n",
              "            title=\"Convert this dataframe to an interactive table.\"\n",
              "            style=\"display:none;\">\n",
              "\n",
              "  <svg xmlns=\"http://www.w3.org/2000/svg\" height=\"24px\" viewBox=\"0 -960 960 960\">\n",
              "    <path d=\"M120-120v-720h720v720H120Zm60-500h600v-160H180v160Zm220 220h160v-160H400v160Zm0 220h160v-160H400v160ZM180-400h160v-160H180v160Zm440 0h160v-160H620v160ZM180-180h160v-160H180v160Zm440 0h160v-160H620v160Z\"/>\n",
              "  </svg>\n",
              "    </button>\n",
              "\n",
              "  <style>\n",
              "    .colab-df-container {\n",
              "      display:flex;\n",
              "      gap: 12px;\n",
              "    }\n",
              "\n",
              "    .colab-df-convert {\n",
              "      background-color: #E8F0FE;\n",
              "      border: none;\n",
              "      border-radius: 50%;\n",
              "      cursor: pointer;\n",
              "      display: none;\n",
              "      fill: #1967D2;\n",
              "      height: 32px;\n",
              "      padding: 0 0 0 0;\n",
              "      width: 32px;\n",
              "    }\n",
              "\n",
              "    .colab-df-convert:hover {\n",
              "      background-color: #E2EBFA;\n",
              "      box-shadow: 0px 1px 2px rgba(60, 64, 67, 0.3), 0px 1px 3px 1px rgba(60, 64, 67, 0.15);\n",
              "      fill: #174EA6;\n",
              "    }\n",
              "\n",
              "    .colab-df-buttons div {\n",
              "      margin-bottom: 4px;\n",
              "    }\n",
              "\n",
              "    [theme=dark] .colab-df-convert {\n",
              "      background-color: #3B4455;\n",
              "      fill: #D2E3FC;\n",
              "    }\n",
              "\n",
              "    [theme=dark] .colab-df-convert:hover {\n",
              "      background-color: #434B5C;\n",
              "      box-shadow: 0px 1px 3px 1px rgba(0, 0, 0, 0.15);\n",
              "      filter: drop-shadow(0px 1px 2px rgba(0, 0, 0, 0.3));\n",
              "      fill: #FFFFFF;\n",
              "    }\n",
              "  </style>\n",
              "\n",
              "    <script>\n",
              "      const buttonEl =\n",
              "        document.querySelector('#df-26c13b1d-f817-44f8-a11b-5d2700f31d1e button.colab-df-convert');\n",
              "      buttonEl.style.display =\n",
              "        google.colab.kernel.accessAllowed ? 'block' : 'none';\n",
              "\n",
              "      async function convertToInteractive(key) {\n",
              "        const element = document.querySelector('#df-26c13b1d-f817-44f8-a11b-5d2700f31d1e');\n",
              "        const dataTable =\n",
              "          await google.colab.kernel.invokeFunction('convertToInteractive',\n",
              "                                                    [key], {});\n",
              "        if (!dataTable) return;\n",
              "\n",
              "        const docLinkHtml = 'Like what you see? Visit the ' +\n",
              "          '<a target=\"_blank\" href=https://colab.research.google.com/notebooks/data_table.ipynb>data table notebook</a>'\n",
              "          + ' to learn more about interactive tables.';\n",
              "        element.innerHTML = '';\n",
              "        dataTable['output_type'] = 'display_data';\n",
              "        await google.colab.output.renderOutput(dataTable, element);\n",
              "        const docLink = document.createElement('div');\n",
              "        docLink.innerHTML = docLinkHtml;\n",
              "        element.appendChild(docLink);\n",
              "      }\n",
              "    </script>\n",
              "  </div>\n",
              "\n",
              "\n",
              "    <div id=\"df-5650f376-5c43-446b-b1c6-a8b023b1e765\">\n",
              "      <button class=\"colab-df-quickchart\" onclick=\"quickchart('df-5650f376-5c43-446b-b1c6-a8b023b1e765')\"\n",
              "                title=\"Suggest charts\"\n",
              "                style=\"display:none;\">\n",
              "\n",
              "<svg xmlns=\"http://www.w3.org/2000/svg\" height=\"24px\"viewBox=\"0 0 24 24\"\n",
              "     width=\"24px\">\n",
              "    <g>\n",
              "        <path d=\"M19 3H5c-1.1 0-2 .9-2 2v14c0 1.1.9 2 2 2h14c1.1 0 2-.9 2-2V5c0-1.1-.9-2-2-2zM9 17H7v-7h2v7zm4 0h-2V7h2v10zm4 0h-2v-4h2v4z\"/>\n",
              "    </g>\n",
              "</svg>\n",
              "      </button>\n",
              "\n",
              "<style>\n",
              "  .colab-df-quickchart {\n",
              "      --bg-color: #E8F0FE;\n",
              "      --fill-color: #1967D2;\n",
              "      --hover-bg-color: #E2EBFA;\n",
              "      --hover-fill-color: #174EA6;\n",
              "      --disabled-fill-color: #AAA;\n",
              "      --disabled-bg-color: #DDD;\n",
              "  }\n",
              "\n",
              "  [theme=dark] .colab-df-quickchart {\n",
              "      --bg-color: #3B4455;\n",
              "      --fill-color: #D2E3FC;\n",
              "      --hover-bg-color: #434B5C;\n",
              "      --hover-fill-color: #FFFFFF;\n",
              "      --disabled-bg-color: #3B4455;\n",
              "      --disabled-fill-color: #666;\n",
              "  }\n",
              "\n",
              "  .colab-df-quickchart {\n",
              "    background-color: var(--bg-color);\n",
              "    border: none;\n",
              "    border-radius: 50%;\n",
              "    cursor: pointer;\n",
              "    display: none;\n",
              "    fill: var(--fill-color);\n",
              "    height: 32px;\n",
              "    padding: 0;\n",
              "    width: 32px;\n",
              "  }\n",
              "\n",
              "  .colab-df-quickchart:hover {\n",
              "    background-color: var(--hover-bg-color);\n",
              "    box-shadow: 0 1px 2px rgba(60, 64, 67, 0.3), 0 1px 3px 1px rgba(60, 64, 67, 0.15);\n",
              "    fill: var(--button-hover-fill-color);\n",
              "  }\n",
              "\n",
              "  .colab-df-quickchart-complete:disabled,\n",
              "  .colab-df-quickchart-complete:disabled:hover {\n",
              "    background-color: var(--disabled-bg-color);\n",
              "    fill: var(--disabled-fill-color);\n",
              "    box-shadow: none;\n",
              "  }\n",
              "\n",
              "  .colab-df-spinner {\n",
              "    border: 2px solid var(--fill-color);\n",
              "    border-color: transparent;\n",
              "    border-bottom-color: var(--fill-color);\n",
              "    animation:\n",
              "      spin 1s steps(1) infinite;\n",
              "  }\n",
              "\n",
              "  @keyframes spin {\n",
              "    0% {\n",
              "      border-color: transparent;\n",
              "      border-bottom-color: var(--fill-color);\n",
              "      border-left-color: var(--fill-color);\n",
              "    }\n",
              "    20% {\n",
              "      border-color: transparent;\n",
              "      border-left-color: var(--fill-color);\n",
              "      border-top-color: var(--fill-color);\n",
              "    }\n",
              "    30% {\n",
              "      border-color: transparent;\n",
              "      border-left-color: var(--fill-color);\n",
              "      border-top-color: var(--fill-color);\n",
              "      border-right-color: var(--fill-color);\n",
              "    }\n",
              "    40% {\n",
              "      border-color: transparent;\n",
              "      border-right-color: var(--fill-color);\n",
              "      border-top-color: var(--fill-color);\n",
              "    }\n",
              "    60% {\n",
              "      border-color: transparent;\n",
              "      border-right-color: var(--fill-color);\n",
              "    }\n",
              "    80% {\n",
              "      border-color: transparent;\n",
              "      border-right-color: var(--fill-color);\n",
              "      border-bottom-color: var(--fill-color);\n",
              "    }\n",
              "    90% {\n",
              "      border-color: transparent;\n",
              "      border-bottom-color: var(--fill-color);\n",
              "    }\n",
              "  }\n",
              "</style>\n",
              "\n",
              "      <script>\n",
              "        async function quickchart(key) {\n",
              "          const quickchartButtonEl =\n",
              "            document.querySelector('#' + key + ' button');\n",
              "          quickchartButtonEl.disabled = true;  // To prevent multiple clicks.\n",
              "          quickchartButtonEl.classList.add('colab-df-spinner');\n",
              "          try {\n",
              "            const charts = await google.colab.kernel.invokeFunction(\n",
              "                'suggestCharts', [key], {});\n",
              "          } catch (error) {\n",
              "            console.error('Error during call to suggestCharts:', error);\n",
              "          }\n",
              "          quickchartButtonEl.classList.remove('colab-df-spinner');\n",
              "          quickchartButtonEl.classList.add('colab-df-quickchart-complete');\n",
              "        }\n",
              "        (() => {\n",
              "          let quickchartButtonEl =\n",
              "            document.querySelector('#df-5650f376-5c43-446b-b1c6-a8b023b1e765 button');\n",
              "          quickchartButtonEl.style.display =\n",
              "            google.colab.kernel.accessAllowed ? 'block' : 'none';\n",
              "        })();\n",
              "      </script>\n",
              "    </div>\n",
              "\n",
              "    </div>\n",
              "  </div>\n"
            ],
            "application/vnd.google.colaboratory.intrinsic+json": {
              "type": "dataframe",
              "variable_name": "tienda",
              "summary": "{\n  \"name\": \"tienda\",\n  \"rows\": 2359,\n  \"fields\": [\n    {\n      \"column\": \"Producto\",\n      \"properties\": {\n        \"dtype\": \"category\",\n        \"num_unique_values\": 51,\n        \"samples\": [\n          \"Guitarra ac\\u00fastica\",\n          \"Bal\\u00f3n de baloncesto\",\n          \"Smartwatch\"\n        ],\n        \"semantic_type\": \"\",\n        \"description\": \"\"\n      }\n    },\n    {\n      \"column\": \"Categor\\u00eda del Producto\",\n      \"properties\": {\n        \"dtype\": \"category\",\n        \"num_unique_values\": 8,\n        \"samples\": [\n          \"Muebles\",\n          \"Deportes y diversi\\u00f3n\",\n          \"Electr\\u00f3nicos\"\n        ],\n        \"semantic_type\": \"\",\n        \"description\": \"\"\n      }\n    },\n    {\n      \"column\": \"Precio\",\n      \"properties\": {\n        \"dtype\": \"number\",\n        \"std\": 614686.7653873172,\n        \"min\": 7600.0,\n        \"max\": 2977000.0,\n        \"num_unique_values\": 1937,\n        \"samples\": [\n          2499400.0,\n          14800.0,\n          80500.0\n        ],\n        \"semantic_type\": \"\",\n        \"description\": \"\"\n      }\n    },\n    {\n      \"column\": \"Costo de env\\u00edo\",\n      \"properties\": {\n        \"dtype\": \"number\",\n        \"std\": 32860.0017825605,\n        \"min\": 0.0,\n        \"max\": 160800.0,\n        \"num_unique_values\": 753,\n        \"samples\": [\n          117800.0,\n          54700.0,\n          45600.0\n        ],\n        \"semantic_type\": \"\",\n        \"description\": \"\"\n      }\n    },\n    {\n      \"column\": \"Fecha de Compra\",\n      \"properties\": {\n        \"dtype\": \"object\",\n        \"num_unique_values\": 1018,\n        \"samples\": [\n          \"15/09/2022\",\n          \"03/06/2020\",\n          \"06/11/2021\"\n        ],\n        \"semantic_type\": \"\",\n        \"description\": \"\"\n      }\n    },\n    {\n      \"column\": \"Vendedor\",\n      \"properties\": {\n        \"dtype\": \"category\",\n        \"num_unique_values\": 14,\n        \"samples\": [\n          \"Juliana Costa\",\n          \"Mariana Herrera\",\n          \"Pedro Gomez\"\n        ],\n        \"semantic_type\": \"\",\n        \"description\": \"\"\n      }\n    },\n    {\n      \"column\": \"Lugar de Compra\",\n      \"properties\": {\n        \"dtype\": \"category\",\n        \"num_unique_values\": 19,\n        \"samples\": [\n          \"Bogot\\u00e1\",\n          \"Pereira\",\n          \"Neiva\"\n        ],\n        \"semantic_type\": \"\",\n        \"description\": \"\"\n      }\n    },\n    {\n      \"column\": \"Calificaci\\u00f3n\",\n      \"properties\": {\n        \"dtype\": \"number\",\n        \"std\": 1,\n        \"min\": 1,\n        \"max\": 5,\n        \"num_unique_values\": 5,\n        \"samples\": [\n          1,\n          2,\n          5\n        ],\n        \"semantic_type\": \"\",\n        \"description\": \"\"\n      }\n    },\n    {\n      \"column\": \"M\\u00e9todo de pago\",\n      \"properties\": {\n        \"dtype\": \"category\",\n        \"num_unique_values\": 4,\n        \"samples\": [\n          \"Nequi\",\n          \"Tarjeta de d\\u00e9bito\",\n          \"Tarjeta de cr\\u00e9dito\"\n        ],\n        \"semantic_type\": \"\",\n        \"description\": \"\"\n      }\n    },\n    {\n      \"column\": \"Cantidad de cuotas\",\n      \"properties\": {\n        \"dtype\": \"number\",\n        \"std\": 2,\n        \"min\": 1,\n        \"max\": 24,\n        \"num_unique_values\": 15,\n        \"samples\": [\n          7,\n          14,\n          8\n        ],\n        \"semantic_type\": \"\",\n        \"description\": \"\"\n      }\n    },\n    {\n      \"column\": \"lat\",\n      \"properties\": {\n        \"dtype\": \"number\",\n        \"std\": 2.2874452492678627,\n        \"min\": -4.21528,\n        \"max\": 11.54444,\n        \"num_unique_values\": 19,\n        \"samples\": [\n          4.60971,\n          4.81333,\n          2.9273\n        ],\n        \"semantic_type\": \"\",\n        \"description\": \"\"\n      }\n    },\n    {\n      \"column\": \"lon\",\n      \"properties\": {\n        \"dtype\": \"number\",\n        \"std\": 1.2178272727088486,\n        \"min\": -77.28111,\n        \"max\": -67.9239,\n        \"num_unique_values\": 19,\n        \"samples\": [\n          -74.08175,\n          -75.69611,\n          -75.28189\n        ],\n        \"semantic_type\": \"\",\n        \"description\": \"\"\n      }\n    }\n  ]\n}"
            }
          },
          "metadata": {},
          "execution_count": 4
        }
      ],
      "source": [
        "import pandas as pd\n",
        "\n",
        "url = \"https://raw.githubusercontent.com/alura-es-cursos/challenge1-data-science-latam/refs/heads/main/base-de-datos-challenge1-latam/tienda_1%20.csv\"\n",
        "url2 = \"https://raw.githubusercontent.com/alura-es-cursos/challenge1-data-science-latam/refs/heads/main/base-de-datos-challenge1-latam/tienda_2.csv\"\n",
        "url3 = \"https://raw.githubusercontent.com/alura-es-cursos/challenge1-data-science-latam/refs/heads/main/base-de-datos-challenge1-latam/tienda_3.csv\"\n",
        "url4 = \"https://raw.githubusercontent.com/alura-es-cursos/challenge1-data-science-latam/refs/heads/main/base-de-datos-challenge1-latam/tienda_4.csv\"\n",
        "\n",
        "tienda = pd.read_csv(url)\n",
        "tienda2 = pd.read_csv(url2)\n",
        "tienda3 = pd.read_csv(url3)\n",
        "tienda4 = pd.read_csv(url4)\n",
        "\n",
        "tienda.head()"
      ]
    },
    {
      "cell_type": "markdown",
      "source": [
        "#1. Análisis de facturación\n",
        "\n"
      ],
      "metadata": {
        "id": "X62IW3KFUIYm"
      }
    },
    {
      "cell_type": "code",
      "source": [
        "# Calcular el ingreso total de cada tienda\n",
        "ingreso_tienda1 = tienda['Precio'].sum()\n",
        "ingreso_tienda2 = tienda2['Precio'].sum()\n",
        "ingreso_tienda3 = tienda3['Precio'].sum()\n",
        "ingreso_tienda4 = tienda4['Precio'].sum()"
      ],
      "metadata": {
        "id": "xykobSftV64I"
      },
      "execution_count": 5,
      "outputs": []
    },
    {
      "cell_type": "code",
      "source": [
        "# Imprimir el ingreso de cada tienda\n",
        "print(f\"Ingreso total de Tienda 1: {ingreso_tienda1:,.0f}\".replace(\",\", \".\"))\n",
        "print(f\"Ingreso total de Tienda 2: {ingreso_tienda2:,.0f}\".replace(\",\", \".\"))\n",
        "print(f\"Ingreso total de Tienda 3: {ingreso_tienda3:,.0f}\".replace(\",\", \".\"))\n",
        "print(f\"Ingreso total de Tienda 4: {ingreso_tienda4:,.0f}\".replace(\",\", \".\"))\n",
        "\n",
        "if (ingreso_tienda1 > ingreso_tienda2 and ingreso_tienda1 > ingreso_tienda3 and ingreso_tienda1 > ingreso_tienda4):\n",
        "  print(\"La tienda con mayor ingresos es la tienda 1, con un total de:\", f\"${ingreso_tienda1:,.0f}\".replace(\",\", \".\"))\n",
        "\n",
        ""
      ],
      "metadata": {
        "colab": {
          "base_uri": "https://localhost:8080/"
        },
        "id": "7BeqmUnMlr89",
        "outputId": "08b1093f-e35a-453e-daae-84094e53a172"
      },
      "execution_count": 20,
      "outputs": [
        {
          "output_type": "stream",
          "name": "stdout",
          "text": [
            "Ingreso total de Tienda 1: 1.150.880.400\n",
            "Ingreso total de Tienda 2: 1.116.343.500\n",
            "Ingreso total de Tienda 3: 1.098.019.600\n",
            "Ingreso total de Tienda 4: 1.038.375.700\n",
            "La tienda con mayor ingresos es la tienda 1, con un total de: $1.150.880.400\n"
          ]
        }
      ]
    },
    {
      "cell_type": "code",
      "source": [
        "# Calcular el ingreso total combinado de todas las tiendas usando una suma de lista\n",
        "ingresos_por_tienda = [ingreso_tienda1, ingreso_tienda2, ingreso_tienda3, ingreso_tienda4]\n",
        "ingreso_total_combinado = sum(ingresos_por_tienda)\n",
        "\n",
        "print(f\"\\nIngreso total combinado de todas las tiendas: {ingreso_total_combinado:,.0f}\")"
      ],
      "metadata": {
        "id": "KDyr8E71V3m-",
        "colab": {
          "base_uri": "https://localhost:8080/"
        },
        "outputId": "951a1791-116e-43a4-a580-25d3feae0fce"
      },
      "execution_count": 21,
      "outputs": [
        {
          "output_type": "stream",
          "name": "stdout",
          "text": [
            "\n",
            "Ingreso total combinado de todas las tiendas: 4,403,619,200\n"
          ]
        }
      ]
    },
    {
      "cell_type": "markdown",
      "source": [
        "# 2. Ventas por categoría"
      ],
      "metadata": {
        "id": "2V_vcAPzWZmR"
      }
    },
    {
      "cell_type": "code",
      "source": [
        "# Crear un diccionario para almacenar los DataFrames y procesarlos en un bucle\n",
        "tiendas = {\n",
        "    \"Tienda 1\": tienda,\n",
        "    \"Tienda 2\": tienda2,\n",
        "    \"Tienda 3\": tienda3,\n",
        "    \"Tienda 4\": tienda4\n",
        "}\n",
        "\n",
        "print(\"Cantidad de productos vendidos por categoría en cada tienda:\\n\")\n",
        "\n",
        "for nombre_tienda, df in tiendas.items():\n",
        "    print(f\"--- {nombre_tienda} ---\")\n",
        "\n",
        "    # Agrupar por 'Categoría de Producto' y contar el número de ocurrencias\n",
        "    # value_counts() ya ordena por defecto de mayor a menor frecuencia\n",
        "    if 'Categoría del Producto' in df.columns:\n",
        "        ventas_por_categoria = df['Categoría del Producto'].value_counts()\n",
        "        print(ventas_por_categoria)\n",
        "\n",
        "        # Mostrar la categoría más popular\n",
        "        if not ventas_por_categoria.empty:\n",
        "            categoria_mas_popular = ventas_por_categoria.index[0]\n",
        "            cantidad_mas_popular = ventas_por_categoria.iloc[0]\n",
        "            print(f\"La categoría más popular es: '{categoria_mas_popular}' con {cantidad_mas_popular} ventas.\\n\")\n",
        "        else:\n",
        "            print(\"No hay ventas registradas o categorías en esta tienda.\\n\")\n",
        "    else:\n",
        "        print(\"La columna 'Categoría de Producto' no se encuentra en este conjunto de datos.\\n\")"
      ],
      "metadata": {
        "colab": {
          "base_uri": "https://localhost:8080/"
        },
        "id": "py7bdpt9w_qC",
        "outputId": "579bc311-835a-4cd9-d193-1bccdc047bcc"
      },
      "execution_count": 26,
      "outputs": [
        {
          "output_type": "stream",
          "name": "stdout",
          "text": [
            "Cantidad de productos vendidos por categoría en cada tienda:\n",
            "\n",
            "--- Tienda 1 ---\n",
            "Categoría del Producto\n",
            "Muebles                    465\n",
            "Electrónicos               448\n",
            "Juguetes                   324\n",
            "Electrodomésticos          312\n",
            "Deportes y diversión       284\n",
            "Instrumentos musicales     182\n",
            "Libros                     173\n",
            "Artículos para el hogar    171\n",
            "Name: count, dtype: int64\n",
            "La categoría más popular es: 'Muebles' con 465 ventas.\n",
            "\n",
            "--- Tienda 2 ---\n",
            "Categoría del Producto\n",
            "Muebles                    442\n",
            "Electrónicos               422\n",
            "Juguetes                   313\n",
            "Electrodomésticos          305\n",
            "Deportes y diversión       275\n",
            "Instrumentos musicales     224\n",
            "Libros                     197\n",
            "Artículos para el hogar    181\n",
            "Name: count, dtype: int64\n",
            "La categoría más popular es: 'Muebles' con 442 ventas.\n",
            "\n",
            "--- Tienda 3 ---\n",
            "Categoría del Producto\n",
            "Muebles                    499\n",
            "Electrónicos               451\n",
            "Juguetes                   315\n",
            "Electrodomésticos          278\n",
            "Deportes y diversión       277\n",
            "Libros                     185\n",
            "Instrumentos musicales     177\n",
            "Artículos para el hogar    177\n",
            "Name: count, dtype: int64\n",
            "La categoría más popular es: 'Muebles' con 499 ventas.\n",
            "\n",
            "--- Tienda 4 ---\n",
            "Categoría del Producto\n",
            "Muebles                    480\n",
            "Electrónicos               451\n",
            "Juguetes                   338\n",
            "Deportes y diversión       277\n",
            "Electrodomésticos          254\n",
            "Artículos para el hogar    201\n",
            "Libros                     187\n",
            "Instrumentos musicales     170\n",
            "Name: count, dtype: int64\n",
            "La categoría más popular es: 'Muebles' con 480 ventas.\n",
            "\n"
          ]
        }
      ]
    },
    {
      "cell_type": "code",
      "source": [
        "#Productos Vendidos en Tienda\n",
        "cantidad_productos_tienda1 = tienda['Producto'].count()\n",
        "print(f'La cantidad de productos vendidos en la tienda 1 es: {cantidad_productos_tienda1:,}')\n",
        "\n",
        "cantidad_productos_tienda2 = tienda2['Producto'].count()\n",
        "print(f'La cantidad de productos vendidos en la tienda 2 es: {cantidad_productos_tienda2:,}')\n",
        "\n",
        "cantidad_productos_tienda3 = tienda3['Producto'].count()\n",
        "print(f'La cantidad de productos vendidos en la tienda 3 es: {cantidad_productos_tienda3:,}')\n",
        "\n",
        "cantidad_productos_tienda4 = tienda4['Producto'].count()\n",
        "print(f'La cantidad de productos vendidos en la tienda 4 es: {cantidad_productos_tienda4:,}')\n"
      ],
      "metadata": {
        "id": "yZR6cOjXYSk1",
        "colab": {
          "base_uri": "https://localhost:8080/"
        },
        "outputId": "b89dd683-da96-4e83-a2ca-26bd1b9c83c5"
      },
      "execution_count": 24,
      "outputs": [
        {
          "output_type": "stream",
          "name": "stdout",
          "text": [
            "La cantidad de productos vendidos en la tienda 1 es: 2,359\n",
            "La cantidad de productos vendidos en la tienda 2 es: 2,359\n",
            "La cantidad de productos vendidos en la tienda 3 es: 2,359\n",
            "La cantidad de productos vendidos en la tienda 4 es: 2,358\n"
          ]
        }
      ]
    },
    {
      "cell_type": "markdown",
      "source": [
        "# 3. Calificación promedio de la tienda\n"
      ],
      "metadata": {
        "id": "Rq6tU_xSY3jk"
      }
    },
    {
      "cell_type": "code",
      "source": [
        "calific_1=tienda['Calificación'].mean()\n",
        "calific_2=tienda2['Calificación'].mean()\n",
        "calific_3=tienda3['Calificación'].mean()\n",
        "calific_4=tienda4['Calificación'].mean()\n",
        "print(f\"La Califiación de la Tienda 1 es: {calific_1:.2f} ★\")\n",
        "print(f\"La Califiación de la Tienda 2 es: {calific_2:.2f} ★\")\n",
        "print(f\"La Califiación de la Tienda 3 es: {calific_3:.2f} ★\")\n",
        "print(f\"La Califiación de la Tienda 4 es: {calific_4:.2f} ★\")\n"
      ],
      "metadata": {
        "id": "bh3jjjJwY5MU",
        "colab": {
          "base_uri": "https://localhost:8080/"
        },
        "outputId": "7926bb46-1a4f-4694-818b-49350c675c80"
      },
      "execution_count": 28,
      "outputs": [
        {
          "output_type": "stream",
          "name": "stdout",
          "text": [
            "La Califiación de la Tienda 1 es: 3.98 ★\n",
            "La Califiación de la Tienda 2 es: 4.04 ★\n",
            "La Califiación de la Tienda 3 es: 4.05 ★\n",
            "La Califiación de la Tienda 4 es: 4.00 ★\n"
          ]
        }
      ]
    },
    {
      "cell_type": "markdown",
      "source": [
        "# 4. Productos más y menos vendidos"
      ],
      "metadata": {
        "id": "DmNp1KPBZCm-"
      }
    },
    {
      "cell_type": "code",
      "source": [
        "#TIENDA 1\n",
        "# Agrupar productos, sumar precios y ordenar\n",
        "productos_ordenados = tienda.groupby('Producto')['Precio'].sum().sort_values(ascending=False)\n",
        "\n",
        "# Calcular el total de la tienda\n",
        "total_tienda = productos_ordenados.sum()\n",
        "\n",
        "# Aplicar separador de miles\n",
        "productos_ordenados_formateado = productos_ordenados.map('{:,.0f}'.format)\n",
        "\n",
        "# Extraer los 10 más caros y 10 más baratos\n",
        "top_10 = productos_ordenados.head(10).reset_index()\n",
        "bottom_10 = productos_ordenados.sort_values(ascending=True).head(10).reset_index()\n",
        "\n",
        "# Asegurar que los precios sean tipo numérico antes de aplicar formato\n",
        "top_10['Precio'] = top_10['Precio'].astype(float).apply(lambda x: f\"{x:,.0f}\")\n",
        "bottom_10['Precio'] = bottom_10['Precio'].astype(float).apply(lambda x: f\"{x:,.0f}\")\n",
        "\n",
        "# Crear un DataFrame con dos columnas\n",
        "tabla_comparativa = pd.DataFrame({'Top 10 Más Caros': top_10['Producto'] + ' - ' + top_10['Precio'],\n",
        "                                  'Top 10 Más Baratos': bottom_10['Producto'] + ' - ' + bottom_10['Precio']})\n",
        "\n",
        "# Mostrar el total de la tienda y la tabla\n",
        "print(f\"Total tienda 1: {total_tienda:,.0f}\\n\")\n",
        "print(tabla_comparativa)"
      ],
      "metadata": {
        "id": "qoyjqijQZHfF",
        "colab": {
          "base_uri": "https://localhost:8080/"
        },
        "outputId": "ba2a0185-c31b-4d8b-8852-a8d65407264f"
      },
      "execution_count": 31,
      "outputs": [
        {
          "output_type": "stream",
          "name": "stdout",
          "text": [
            "Total tienda 1: 1,150,880,400\n",
            "\n",
            "                  Top 10 Más Caros                       Top 10 Más Baratos\n",
            "0      TV LED UHD 4K - 142,150,200             Cuerda para saltar - 652,800\n",
            "1       Refrigerador - 112,143,300                 Dinosaurio Rex - 688,900\n",
            "2           Iphone 15 - 97,902,200                Cubo mágico 8x8 - 696,900\n",
            "3            Smart TV - 67,452,100                 Set de vasos - 1,359,100\n",
            "4    Lavadora de ropa - 65,783,600            Ajedrez de madera - 1,430,600\n",
            "5        Lavavajillas - 62,054,900      Dashboards con Power BI - 1,455,700\n",
            "6    Secadora de ropa - 59,062,400      Bloques de construcción - 1,865,700\n",
            "7         Tablet ABXY - 47,639,800                  Muñeca bebé - 1,937,300\n",
            "8             Batería - 37,693,900  Ciencia de datos con Python - 2,063,600\n",
            "9  Guitarra eléctrica - 37,292,200    Iniciando en programación - 2,093,100\n"
          ]
        }
      ]
    },
    {
      "cell_type": "code",
      "source": [
        "#TIENDA 2\n",
        "# Agrupar productos, sumar precios y ordenar\n",
        "productos_ordenados = tienda2.groupby('Producto')['Precio'].sum().sort_values(ascending=False)\n",
        "\n",
        "# Calcular el total de la tienda\n",
        "total_tienda = productos_ordenados.sum()\n",
        "\n",
        "# Aplicar separador de miles\n",
        "productos_ordenados_formateado = productos_ordenados.map('{:,.0f}'.format)\n",
        "\n",
        "# Extraer los 10 más caros y 10 más baratos\n",
        "top_10 = productos_ordenados.head(10).reset_index()\n",
        "bottom_10 = productos_ordenados.sort_values(ascending=True).head(10).reset_index()\n",
        "\n",
        "# Asegurar que los precios sean tipo numérico antes de aplicar formato\n",
        "top_10['Precio'] = top_10['Precio'].astype(float).apply(lambda x: f\"{x:,.0f}\")\n",
        "bottom_10['Precio'] = bottom_10['Precio'].astype(float).apply(lambda x: f\"{x:,.0f}\")\n",
        "\n",
        "# Crear un DataFrame con dos columnas\n",
        "tabla_comparativa = pd.DataFrame({'Top 10 Más Caros': top_10['Producto'] + ' - ' + top_10['Precio'],\n",
        "                                  'Top 10 Más Baratos': bottom_10['Producto'] + ' - ' + bottom_10['Precio']})\n",
        "\n",
        "# Mostrar el total de la tienda y la tabla\n",
        "print(f\"Total tienda N°2: {total_tienda:,.0f}\\n\")\n",
        "print(tabla_comparativa)"
      ],
      "metadata": {
        "id": "0Sw3sd4IZIGW",
        "colab": {
          "base_uri": "https://localhost:8080/"
        },
        "outputId": "273db8ee-17d4-4633-ac44-19c83e69d951"
      },
      "execution_count": 32,
      "outputs": [
        {
          "output_type": "stream",
          "name": "stdout",
          "text": [
            "Total tienda N°2: 1,116,343,500\n",
            "\n",
            "                Top 10 Más Caros                   Top 10 Más Baratos\n",
            "0        Iphone 15 - 113,225,800            Cubo mágico 8x8 - 643,600\n",
            "1    TV LED UHD 4K - 103,375,000             Dinosaurio Rex - 770,300\n",
            "2      Refrigerador - 97,632,500         Cuerda para saltar - 856,900\n",
            "3  Lavadora de ropa - 66,762,300        Ajedrez de madera - 1,287,700\n",
            "4          Smart TV - 61,142,000             Set de vasos - 1,542,600\n",
            "5  Secadora de ropa - 59,115,100  Dashboards con Power BI - 1,599,500\n",
            "6      Lavavajillas - 58,767,500               Cubertería - 1,732,900\n",
            "7       Tablet ABXY - 56,209,800  Bloques de construcción - 1,789,400\n",
            "8           Batería - 46,175,300      Balón de baloncesto - 2,091,300\n",
            "9      Celular ABXY - 41,668,900             Vaso térmico - 2,155,900\n"
          ]
        }
      ]
    },
    {
      "cell_type": "code",
      "source": [
        "#TIENDA 3\n",
        "# Agrupar productos, sumar precios y ordenar\n",
        "productos_ordenados = tienda3.groupby('Producto')['Precio'].sum().sort_values(ascending=False)\n",
        "\n",
        "# Calcular el total de la tienda\n",
        "total_tienda = productos_ordenados.sum()\n",
        "\n",
        "# Aplicar separador de miles\n",
        "productos_ordenados_formateado = productos_ordenados.map('{:,.0f}'.format)\n",
        "\n",
        "# Extraer los 10 más caros y 10 más baratos\n",
        "top_10 = productos_ordenados.head(10).reset_index()\n",
        "bottom_10 = productos_ordenados.sort_values(ascending=True).head(10).reset_index()\n",
        "\n",
        "# Asegurar que los precios sean tipo numérico antes de aplicar formato\n",
        "top_10['Precio'] = top_10['Precio'].astype(float).apply(lambda x: f\"{x:,.0f}\")\n",
        "bottom_10['Precio'] = bottom_10['Precio'].astype(float).apply(lambda x: f\"{x:,.0f}\")\n",
        "\n",
        "# Crear un DataFrame con dos columnas\n",
        "tabla_comparativa = pd.DataFrame({'Top 10 Más Caros': top_10['Producto'] + ' - ' + top_10['Precio'],\n",
        "                                  'Top 10 Más Baratos': bottom_10['Producto'] + ' - ' + bottom_10['Precio']})\n",
        "\n",
        "# Mostrar el total de la tienda y la tabla\n",
        "print(f\"Total tienda 3: {total_tienda:,.0f}\\n\")\n",
        "print(tabla_comparativa)"
      ],
      "metadata": {
        "colab": {
          "base_uri": "https://localhost:8080/"
        },
        "id": "13S8XwLWx2Z7",
        "outputId": "d4cf5354-3991-404a-8e6c-bc593e4c9af7"
      },
      "execution_count": 34,
      "outputs": [
        {
          "output_type": "stream",
          "name": "stdout",
          "text": [
            "Total tienda 3: 1,098,019,600\n",
            "\n",
            "                Top 10 Más Caros                   Top 10 Más Baratos\n",
            "0      Refrigerador - 99,889,700            Cubo mágico 8x8 - 640,400\n",
            "1     TV LED UHD 4K - 96,669,100             Dinosaurio Rex - 795,600\n",
            "2         Iphone 15 - 93,225,700         Cuerda para saltar - 853,800\n",
            "3          Smart TV - 78,837,300             Set de vasos - 1,210,700\n",
            "4      Lavavajillas - 64,364,800  Bloques de construcción - 1,237,200\n",
            "5       Tablet ABXY - 58,440,100        Ajedrez de madera - 1,355,300\n",
            "6  Lavadora de ropa - 57,459,100  Dashboards con Power BI - 1,372,600\n",
            "7  Secadora de ropa - 49,798,300             Vaso térmico - 1,725,600\n",
            "8      Celular ABXY - 43,419,600               Cubertería - 1,775,900\n",
            "9         Cama king - 38,834,700              Muñeca bebé - 1,932,600\n"
          ]
        }
      ]
    },
    {
      "cell_type": "code",
      "source": [
        "#TIENDA 4\n",
        "# Agrupar productos, sumar precios y ordenar\n",
        "productos_ordenados = tienda4.groupby('Producto')['Precio'].sum().sort_values(ascending=False)\n",
        "\n",
        "# Calcular el total de la tienda\n",
        "total_tienda = productos_ordenados.sum()\n",
        "\n",
        "# Aplicar separador de miles\n",
        "productos_ordenados_formateado = productos_ordenados.map('{:,.0f}'.format)\n",
        "\n",
        "# Extraer los 10 más caros y 10 más baratos\n",
        "top_10 = productos_ordenados.head(10).reset_index()\n",
        "bottom_10 = productos_ordenados.sort_values(ascending=True).head(10).reset_index()\n",
        "\n",
        "# Asegurar que los precios sean tipo numérico antes de aplicar formato\n",
        "top_10['Precio'] = top_10['Precio'].astype(float).apply(lambda x: f\"{x:,.0f}\")\n",
        "bottom_10['Precio'] = bottom_10['Precio'].astype(float).apply(lambda x: f\"{x:,.0f}\")\n",
        "\n",
        "# Crear un DataFrame con dos columnas\n",
        "tabla_comparativa = pd.DataFrame({'Top 10 Más Caros': top_10['Producto'] + ' - ' + top_10['Precio'],\n",
        "                                  'Top 10 Más Baratos': bottom_10['Producto'] + ' - ' + bottom_10['Precio']})\n",
        "\n",
        "# Mostrar el total de la tienda y la tabla\n",
        "print(f\"Total tienda 4: {total_tienda:,.0f}\\n\")\n",
        "print(tabla_comparativa)"
      ],
      "metadata": {
        "colab": {
          "base_uri": "https://localhost:8080/"
        },
        "id": "S6IWBzVax71E",
        "outputId": "d4d93312-dedf-4289-8784-bac655a16c54"
      },
      "execution_count": 35,
      "outputs": [
        {
          "output_type": "stream",
          "name": "stdout",
          "text": [
            "Total tienda 4: 1,038,375,700\n",
            "\n",
            "                Top 10 Más Caros                       Top 10 Más Baratos\n",
            "0         Iphone 15 - 96,697,500             Cuerda para saltar - 704,800\n",
            "1     TV LED UHD 4K - 90,295,300                Cubo mágico 8x8 - 748,400\n",
            "2          Smart TV - 82,790,400                 Dinosaurio Rex - 858,100\n",
            "3      Refrigerador - 75,271,900            Ajedrez de madera - 1,075,500\n",
            "4       Tablet ABXY - 56,723,100                 Set de vasos - 1,471,800\n",
            "5      Lavavajillas - 55,349,300      Bloques de construcción - 1,909,800\n",
            "6  Lavadora de ropa - 52,463,600      Dashboards con Power BI - 1,990,600\n",
            "7  Secadora de ropa - 42,262,200  Ciencia de datos con Python - 2,108,800\n",
            "8      Celular ABXY - 40,171,600    Iniciando en programación - 2,118,200\n",
            "9         Cama king - 37,555,400                 Vaso térmico - 2,152,500\n"
          ]
        }
      ]
    },
    {
      "cell_type": "markdown",
      "source": [
        "# 5. Envío promedio por tienda"
      ],
      "metadata": {
        "id": "Fl0cGi3bZKqU"
      }
    },
    {
      "cell_type": "code",
      "source": [
        "import pandas as pd\n",
        "\n",
        "url = \"https://raw.githubusercontent.com/alura-es-cursos/challenge1-data-science-latam/refs/heads/main/base-de-datos-challenge1-latam/tienda_1%20.csv\"\n",
        "url2 = \"https://raw.githubusercontent.com/alura-es-cursos/challenge1-data-science-latam/refs/heads/main/base-de-datos-challenge1-latam/tienda_2.csv\"\n",
        "url3 = \"https://raw.githubusercontent.com/alura-es-cursos/challenge1-data-science-latam/refs/heads/main/base-de-datos-challenge1-latam/tienda_3.csv\"\n",
        "url4 = \"https://raw.githubusercontent.com/alura-es-cursos/challenge1-data-science-latam/refs/heads/main/base-de-datos-challenge1-latam/tienda_4.csv\"\n",
        "\n",
        "tienda = pd.read_csv(url)\n",
        "tienda2 = pd.read_csv(url2)\n",
        "tienda3 = pd.read_csv(url3)\n",
        "tienda4 = pd.read_csv(url4)\n",
        "\n",
        "tienda.head()\n",
        "envio_prom1=tienda['Costo de envío'].mean()\n",
        "envio_prom2=tienda2['Costo de envío'].mean()\n",
        "envio_prom3=tienda3['Costo de envío'].mean()\n",
        "envio_prom4=tienda4['Costo de envío'].mean()\n",
        "print(f\"El Envío promedio de la Tienda N°1 es: {envio_prom1:,.2f}\")\n",
        "print(f\"El Envío promedio de la Tienda N°2 es: {envio_prom2:,.2f}\")\n",
        "print(f\"El Envío promedio de la Tienda N°3 es: {envio_prom3:,.2f}\")\n",
        "print(f\"El Envío promedio de la Tienda N°4 es: {envio_prom4:,.2f}\")\n"
      ],
      "metadata": {
        "id": "S2JeaCykZNy9",
        "colab": {
          "base_uri": "https://localhost:8080/"
        },
        "outputId": "f9b32ad8-bd85-4973-c210-afa67457f57c"
      },
      "execution_count": 51,
      "outputs": [
        {
          "output_type": "stream",
          "name": "stdout",
          "text": [
            "El Envío promedio de la Tienda N°1 es: 26,018.61\n",
            "El Envío promedio de la Tienda N°2 es: 25,216.24\n",
            "El Envío promedio de la Tienda N°3 es: 24,805.68\n",
            "El Envío promedio de la Tienda N°4 es: 23,459.46\n"
          ]
        }
      ]
    },
    {
      "cell_type": "markdown",
      "source": [
        "# 6. Gráficos"
      ],
      "metadata": {
        "id": "HJlD6-ihyJhX"
      }
    },
    {
      "cell_type": "code",
      "source": [
        "\n",
        "import matplotlib.pyplot as plt\n",
        "#Datos de facturación\n",
        "tiendas = ['Tienda 1', 'Tienda 2', 'Tienda 3', 'Tienda 4']\n",
        "ingresos = [ingreso_tienda1, ingreso_tienda2, ingreso_tienda3, ingreso_tienda4]\n",
        "colores = ['skyblue', 'green', 'red', 'purple']\n",
        "\n",
        "#creando gráfico de barras\n",
        "plt.figure(figsize=(7, 4))#tamaño gráfico\n",
        "plt.bar(tiendas, ingresos, color=['skyblue','green','red','purple'])\n",
        "\n",
        "#agregando valores sobre cada barra\n",
        "for i, ingreso in enumerate(ingresos):\n",
        "    plt.text(i, ingreso, f'${ingreso:,.0f}', ha='center', va='bottom')\n",
        "#ejes gráfico\n",
        "plt.xlabel('Tiendas')\n",
        "plt.ylabel('ingresos')\n",
        "plt.title('Ingresos Totales por tiendas')\n",
        "plt.legend(handles=[plt.Rectangle((0,0),1,1, color=color) for color in colores], labels=tiendas, loc='lower right')\n",
        "plt.show()"
      ],
      "metadata": {
        "colab": {
          "base_uri": "https://localhost:8080/",
          "height": 410
        },
        "id": "9BPBsRK7yMlM",
        "outputId": "3e746665-0d84-446d-a7e2-a00adbcff053"
      },
      "execution_count": 39,
      "outputs": [
        {
          "output_type": "display_data",
          "data": {
            "text/plain": [
              "<Figure size 700x400 with 1 Axes>"
            ],
            "image/png": "[encoded data removed]"
          },
          "metadata": {}
        }
      ]
    },
    {
      "cell_type": "code",
      "source": [
        "import matplotlib.pyplot as plt\n",
        "# Datos\n",
        "tiendas = ['Tienda 1', 'Tienda 2', 'Tienda 3', 'Tienda 4']\n",
        "ingresos = [ingreso_tienda1, ingreso_tienda2, ingreso_tienda3, ingreso_tienda4]\n",
        "colores = ['skyblue', 'green', 'red', 'purple']\n",
        "\n",
        "# Crear el gráfico de pastel\n",
        "plt.figure(figsize=(4, 4))\n",
        "plt.pie(ingresos, labels=tiendas, autopct='%1.1f%%', colors=colores, startangle=90)\n",
        "\n",
        "# Título\n",
        "plt.title('Distribución de Ingresos por Tienda')\n",
        "\n",
        "# Mostrar el gráfico\n",
        "plt.show()"
      ],
      "metadata": {
        "colab": {
          "base_uri": "https://localhost:8080/",
          "height": 367
        },
        "id": "-CyxExLxyZlp",
        "outputId": "e57ffa26-5003-476d-85b3-e678363033f4"
      },
      "execution_count": 41,
      "outputs": [
        {
          "output_type": "display_data",
          "data": {
            "text/plain": [
              "<Figure size 400x400 with 1 Axes>"
            ],
            "image/png": "[encoded data removed]"
          },
          "metadata": {}
        }
      ]
    },
    {
      "cell_type": "code",
      "source": [
        "import matplotlib.pyplot as plt\n",
        "\n",
        "# Concatenar datos de todas las tiendas\n",
        "df_tiendas = pd.concat([tienda.assign(Tienda='Tienda 1'),\n",
        "                        tienda2.assign(Tienda='Tienda 2'),\n",
        "                        tienda3.assign(Tienda='Tienda 3'),\n",
        "                        tienda4.assign(Tienda='Tienda 4')])\n",
        "\n",
        "# Agrupar y calcular precios por tienda y producto\n",
        "productos_ordenados = df_tiendas.groupby(['Tienda', 'Producto'])['Precio'].sum().reset_index()\n",
        "\n",
        "# Extraer los 10 productos más caros por tienda\n",
        "top_10_por_tienda = productos_ordenados.sort_values(['Tienda', 'Precio'], ascending=[True, False]).groupby('Tienda').head(10)\n",
        "\n",
        "# Crear gráfico\n",
        "plt.figure(figsize=(12, 6))\n",
        "for tienda in top_10_por_tienda['Tienda'].unique():\n",
        "    subset = top_10_por_tienda[top_10_por_tienda['Tienda'] == tienda]\n",
        "    plt.barh(subset['Producto'], subset['Precio'], label=tienda)\n",
        "\n",
        "plt.xlabel('Precio')\n",
        "plt.title('Productos Más y Menos Vendidos')\n",
        "plt.legend()\n",
        "plt.gca().invert_yaxis()  # Invertir eje Y para mejor legibilidad\n",
        "plt.show()"
      ],
      "metadata": {
        "colab": {
          "base_uri": "https://localhost:8080/",
          "height": 565
        },
        "id": "RvPrTG6LzKfs",
        "outputId": "60a45631-9d48-4fa3-b20b-6bda1d97d78a"
      },
      "execution_count": 42,
      "outputs": [
        {
          "output_type": "display_data",
          "data": {
            "text/plain": [
              "<Figure size 1200x600 with 1 Axes>"
            ],
            "image/png": "[encoded data removed]"
          },
          "metadata": {}
        }
      ]
    },
    {
      "cell_type": "markdown",
      "source": [
        "# Reporte Final\n",
        "\n",
        "El Sr. Juan ha solicitado una evaluación exhaustiva de las cuatro sucursales de su cadena, Alura Store, con el fin de determinar cuál de ellas debería ser desinvertida para financiar un nuevo proyecto empresarial.\n",
        "\n",
        "Para cumplir con este requerimiento, se procederá a un análisis detallado de los datos de ventas, el rendimiento operativo y las reseñas de clientes correspondientes a cada una de las cuatro tiendas.\n",
        "\n",
        "El propósito fundamental de este estudio es identificar la sucursal con el rendimiento más bajo o la menor eficiencia, y posteriormente formular una recomendación fundamentada en los hallazgos derivados del análisis de los datos. Inicialmente, este análisis se centrará en la evaluación de los ingresos generados por cada una de las cuatro tiendas.\n",
        "\n",
        "## Sección de Análisis de Ingresos por Tienda\n",
        "\n",
        "El análisis detallado de los ingresos obtenidos por cada una de nuestras tiendas revela la siguiente distribución:\n",
        "\n",
        "*   Tienda 1: 1.150.880.400\n",
        "*   Tienda 2: 1.116.343.500\n",
        "*   Tienda 3: 1.098.019.600\n",
        "*   Tienda 4: 1.038.375.700\n",
        "\n",
        "En base a estos datos, se concluye que la Tienda 1 ha generado los mayores ingresos en el periodo analizado, alcanzando un total de 1.150.880.400. Este resultado la posiciona como la sucursal con el mejor desempeño económico.\n",
        "\n",
        "## Sección de Análisis de Cantidades de Productos más vendidos por Tienda\n",
        "A continuación, se presenta un reporte detallado de la cantidad de productos vendidos por categoría en cada tienda.\n",
        "\n",
        "El análisis de la venta de productos por categoría en cada una de nuestras tiendas durante el periodo analizado, arroja los siguientes resultados:\n",
        "\n",
        "**Tienda 1**\n",
        "* Muebles: 465 unidades vendidas\n",
        "* Electrónicos: 448 unidades vendidas\n",
        "* Juguetes: 324 unidades vendidas\n",
        "* Electrodomésticos: 312 unidades vendidas\n",
        "* Deportes y diversión: 284 unidades vendidas\n",
        "* Instrumentos musicales: 182 unidades vendidas\n",
        "* Libros: 173 unidades vendidas\n",
        "* Artículos para el hogar: 171 unidades vendidas\n",
        "\n",
        "Conclusión para Tienda 1: La categoría más popular en la Tienda 1 es **'Muebles' con 465 ventas.**\n",
        "\n",
        "\n",
        "**Tienda 2**\n",
        "* Muebles: 442 unidades vendidas\n",
        "* Electrónicos: 422 unidades vendidas\n",
        "* Juguetes: 313 unidades vendidas\n",
        "* Electrodomésticos: 305 unidades vendidas\n",
        "* Deportes y diversión: 275 unidades vendidas\n",
        "* Instrumentos musicales: 224 unidades vendidas\n",
        "* Libros: 197 unidades vendidas\n",
        "* Artículos para el hogar: 181 unidades vendidas\n",
        "\n",
        "Conclusión para Tienda 2: La categoría más popular en la Tienda 2 es **'Muebles' con 442 ventas.**\n",
        "\n",
        "\n",
        "**Tienda 3**\n",
        "* Muebles: 499 unidades vendidas\n",
        "* Electrónicos: 451 unidades vendidas\n",
        "* Juguetes: 315 unidades vendidas\n",
        "* Electrodomésticos: 278 unidades vendidas\n",
        "* Deportes y diversión: 277 unidades vendidas\n",
        "* Libros: 185 unidades vendidas\n",
        "* Instrumentos musicales: 177 unidades vendidas\n",
        "* Artículos para el hogar: 177 unidades vendidas\n",
        "Conclusión para Tienda 3: La categoría más popular en la Tienda 3 es **'Muebles' con 499 ventas.**\n",
        "\n",
        "\n",
        "**Tienda 4**\n",
        "* Muebles: 480 unidades vendidas\n",
        "* Electrónicos: 451 unidades vendidas\n",
        "* Juguetes: 338 unidades vendidas\n",
        "* Deportes y diversión: 277 unidades vendidas\n",
        "* Electrodomésticos: 254 unidades vendidas\n",
        "* Artículos para el hogar: 201 unidades vendidas\n",
        "* Libros: 187 unidades vendidas\n",
        "* Instrumentos musicales: 170 unidades vendidas\n",
        "Conclusión para Tienda 4: La categoría más popular en la Tienda 4 es **'Muebles' con 480 ventas.**\n",
        "\n",
        "##Sección de Calificación Promedio por Tienda\n",
        "\n",
        "El análisis de la calificación promedio de cada una de nuestras tiendas, basada en la información disponible, revela los siguientes resultados:\n",
        "\n",
        "* La Calificación de la Tienda 1 es: 3.98 ⋆\n",
        "* La Calificación de la Tienda 2 es: 4.04 ⋆\n",
        "* La Calificación de la Tienda 3 es: 4.05 ⋆\n",
        "* La Calificación de la Tienda 4 es: 4.00 ⋆\n",
        "\n",
        "Estos datos nos permiten evaluar el nivel de satisfacción o desempeño percibido para cada una de nuestras sucursales.\n",
        "\n",
        "## Sección de Análisis de Ingresos y Productos por Tienda\n",
        "\n",
        "El análisis detallado de los ingresos obtenidos por cada una de nuestras tiendas, así como el desempeño de sus productos más vendidos, revela la siguiente distribución:\n",
        "\n",
        "### **Tienda 1:**\n",
        "\n",
        "* **Ingreso Total: 1.150.880.400**\n",
        "* **Top 10 Productos Más Caros:**\n",
        "\n",
        "1. TV LED UHD 4K – 142.150.200\n",
        "2. Refrigerador – 112.143.300\n",
        "3. Iphone 15 – 97.902.200\n",
        "4. Smart TV – 67.452.100\n",
        "5. Lavadora de ropa – 65.783.600\n",
        "6. Lavavajillas – 62.054.900\n",
        "7. Secadora de ropa – 59.062.400\n",
        "8. Tablet ABXY – 47.639.800\n",
        "9. Batería – 37.693.900\n",
        "10. Guitarra eléctrica – 37.292.200\n",
        "\n",
        "* **Top 10 Productos Más Baratos:**\n",
        "1. Cuerda para saltar – 652.800\n",
        "2. Dinosaurio Rex – 688.900\n",
        "3. Cubo mágico 8x8 – 696.900\n",
        "4. Set de vasos – 1.359.100\n",
        "5. Ajedrez de madera – 1.430.600\n",
        "6. Dashboards con Power BI – 1.455.700\n",
        "7. Bloques de construcción – 1.865.700\n",
        "8. Muñeca bebé – 1.937.300\n",
        "9. Ciencia de datos con Python – 2.063.600\n",
        "10. Iniciando en programación – 2.093.100\n",
        "\n",
        "### **Tienda 2:**\n",
        "* **Ingreso Total: 1.116.343.500**\n",
        "* **Top 10 Productos Más Caros:**\n",
        "1. iPhone 15 – 113.225.800\n",
        "2. TV LED UHD 4K – 103.375.000\n",
        "3. Refrigerador – 97.632.500\n",
        "4. Lavadora de ropa – 66.762.300\n",
        "5. Smart TV – 61.142.000\n",
        "6. Secadora de ropa – 59.115.100\n",
        "7. Lavavajillas – 58.767.500\n",
        "8. Tablet ABXY – 56.209.800\n",
        "9. Batería – 46.175.300\n",
        "10. Celular ABXY – 41.668.900\n",
        "\n",
        "* **Top 10 Productos Más Baratos:**\n",
        "1. Cubo mágico 8x8 – 643.600\n",
        "2. Dinosaurio Rex – 770.300\n",
        "3. Cuerda para saltar – 856.900\n",
        "4. Ajedrez de madera – 1.287.700\n",
        "5. Set de vasos – 1.542.600\n",
        "6. Dashboards con Power BI – 1.599.500\n",
        "7. Cubetería – 1.732.900\n",
        "8. Bloques de construcción – 1.789.400\n",
        "9. Balón de baloncesto – 2.091.300\n",
        "10. Vaso térmico – 2.155.900\n",
        "\n",
        "## **Tienda 3:**\n",
        "* **Ingreso Total: 1.098.019.600**\n",
        "* **Top 10 Productos Más Caros:**\n",
        "1. Refrigerador – 99.889.700\n",
        "2. TV LED UHD 4K – 96.669.100\n",
        "3. Iphone 15 – 93.225.700\n",
        "4. Smart TV – 78.837.300\n",
        "5. Lavavajillas – 64.364.800\n",
        "6. Tablet ABXY – 58.440.100\n",
        "7. Lavadora de ropa – 57.459.100\n",
        "8. Secadora de ropa – 49.798.300\n",
        "9. Celular ABXY – 43.419.600\n",
        "10. Cama king – 38.834.700\n",
        "\n",
        "* **Top 10 Productos Más Baratos:**\n",
        "1. Cubo mágico 8x8 – 640.400\n",
        "2. Dinosaurio Rex – 795.600\n",
        "3. Cuerda para saltar – 853.800\n",
        "4. Set de vasos – 1.210.700\n",
        "5. Bloques de construcción – 1.237.200\n",
        "6. Ajedrez de madera – 1.355.300\n",
        "7. Dashboards con Power BI – 1.372.600\n",
        "8. Vaso térmico – 1.725.600\n",
        "9. Cubetería – 1.775.900\n",
        "10. Muñeca bebé – 1.932.600\n",
        "\n",
        "* **Tienda 4:**\n",
        "* **Ingreso Total: 1.038.375.700**\n",
        "* **Top 10 Productos Más Caros:**\n",
        "1. Iphone 15 – 96.697.500\n",
        "2. TV LED UHD 4K – 90.295.300\n",
        "3. Smart TV – 82.790.400\n",
        "4. Refrigerador – 75.271.900\n",
        "5. Tablet ABXY – 56.723.100\n",
        "6. Lavavajillas – 55.349.300\n",
        "7. Lavadora de ropa - 52,463,600\n",
        "8. Secadora de ropa – 52.463.600\n",
        "9. Celular ABXY – 40.171.600\n",
        "10. Cama king – 37.555.400\n",
        "\n",
        "* **Top 10 Productos Más Baratos:**\n",
        "1. Cuerda para saltar – 704.800\n",
        "2. Cubo mágico 8x8 – 748.400\n",
        "3. Dinosaurio Rex – 858.100\n",
        "4. Ajedrez de madera – 1.075.500\n",
        "5. Set de vasos – 1.471.800\n",
        "6. Bloques de construcción – 1.909.800\n",
        "7. Dashboards con Power BI – 1.990.600\n",
        "8. Ciencia de datos con Python – 2.108.800\n",
        "9. Iniciando en programación – 2.118.200\n",
        "10. Vaso térmico – 2.152.500\n",
        "\n",
        "## Sección de Análisis de Envío Promedio por Tienda\n",
        "* El Envío promedio de la Tienda N°1 es: 26,018.61\n",
        "* El Envío promedio de la Tienda N°2 es: 25,216.24\n",
        "* El Envío promedio de la Tienda N°3 es: 24,805.68\n",
        "* El Envío promedio de la Tienda N°4 es: 23,459.46\n",
        "\n",
        "# Conclusión General del Análisis de Tiendas Alura Store\n",
        "\n",
        "El análisis exhaustivo de las cuatro sucursales de Alura Store, solicitado por el Sr. Juan para identificar la tienda menos eficiente para una posible desinversión, ha revelado patrones distintivos en el rendimiento de cada una.\n",
        "\n",
        "En términos de ingresos totales, la **Tienda 1** se posiciona consistentemente como la de mayor generación de valor, superando significativamente a las demás sucursales. En contraste, la **Tienda 4**  registra los ingresos más bajos, lo que la sitúa como la menos rentable desde esta perspectiva económica.\n",
        "\n",
        "Respecto a la cantidad de productos vendidos por categoría, la categoría 'Muebles' emerge como la más popular en todas las tiendas, indicando una fortaleza general de la marca en este segmento de mercado. Si bien existen variaciones en el volumen de ventas por categoría entre las tiendas, todas comparten una estructura similar en sus productos más demandados. **La Tienda 3** destaca ligeramente en ventas de Muebles, con 499 unidades.\n",
        "\n",
        "En cuanto a la calificación promedio, las **tiendas 2 y 3** muestran las puntuaciones ligeramente más altas (4.04 y 4.05 estrellas respectivamente), sugiriendo un mayor nivel de satisfacción del cliente o percepción de desempeño. La Tienda 1 y la Tienda 4 presentan calificaciones ligeramente inferiores (3.98 y 4.00 estrellas), aunque la diferencia es mínima.\n",
        "\n",
        "Finalmente, el costo de envío promedio revela que la **Tienda 1** incurre en los costos más elevados, mientras que la **Tienda 4** registra los costos de envío más bajos. Esto podría implicar diferencias en la logística, el tipo de productos vendidos o la distancia de entrega para cada sucursal.\n",
        "\n",
        "**Recomendación Preliminar:**\n",
        "\n",
        "Considerando el objetivo de identificar la tienda menos eficiente para la desinversión, el análisis actual apunta a la **Tienda 4** como la principal candidata. Esta sucursal presenta los ingresos totales más bajos y la menor contribución porcentual al ingreso global de la cadena. Si bien sus costos de envío promedio son los más bajos, lo cual podría indicar una eficiencia operativa en esa área, esta ventaja no compensa su menor rendimiento en ingresos. La Tienda 4 también tiene una calificación promedio que, aunque no es la más baja, no sobresale.\n",
        "\n"
      ],
      "metadata": {
        "id": "KpfFnUYf1kjV"
      }
    }
  ]
}